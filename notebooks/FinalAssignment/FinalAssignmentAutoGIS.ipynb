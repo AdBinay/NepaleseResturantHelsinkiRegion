{
 "cells": [
  {
   "cell_type": "markdown",
   "metadata": {},
   "source": [
    "Author: Hari Adhikari\n"
   ]
  },
  {
   "cell_type": "markdown",
   "metadata": {},
   "source": [
    "In this final assignment, i would like to investigate the geographical position (location) of Nepalese Resturant in Helsinki region. Besides that i would also like to see how accessible they are from the nearest train and metro stations. Furthermore, i would like to see, the possible new areas for opening Nepali resturants in Helsinki regions, based on population density. "
   ]
  },
  {
   "cell_type": "markdown",
   "metadata": {},
   "source": [
    "So far, i have manually identified the location of each Nepali resturant from Google search, as they were not available in 1) Trip advisor and 2) Open Street Map. This data can be read from data folder \"listofnepaliResturants.txt\"\n"
   ]
  },
  {
   "cell_type": "markdown",
   "metadata": {},
   "source": [
    "Install and import necessary modules "
   ]
  },
  {
   "cell_type": "code",
   "execution_count": 22,
   "metadata": {},
   "outputs": [
    {
     "data": {
      "text/plain": [
       "'Install Geopandas\\n#conda install -c conda-forge geopandas\\nInstall Shapely\\n#conda install -c conda-forge shapely\\nInstall geoplot\\n#conda install -c conda-forge geoplot\\nInstall osmnx\\n#conda install -c conda-forge osmnx\\nInstall pysal\\n#conda install -c conda-forge pysal\\nInstall contextily\\n#conda install -c conda-forge contextily\\nInstall rasterio\\n#conda install -c conda-forge rasterio\\nInstall rasterstats\\n#conda install -c conda-forge rasterstats'"
      ]
     },
     "execution_count": 22,
     "metadata": {},
     "output_type": "execute_result"
    }
   ],
   "source": [
    "'''Install Geopandas\n",
    "#conda install -c conda-forge geopandas\n",
    "Install Shapely\n",
    "#conda install -c conda-forge shapely\n",
    "Install geoplot\n",
    "#conda install -c conda-forge geoplot\n",
    "Install osmnx\n",
    "#conda install -c conda-forge osmnx\n",
    "Install pysal\n",
    "#conda install -c conda-forge pysal\n",
    "Install contextily\n",
    "#conda install -c conda-forge contextily\n",
    "Install rasterio\n",
    "#conda install -c conda-forge rasterio\n",
    "Install rasterstats\n",
    "#conda install -c conda-forge rasterstats'''"
   ]
  },
  {
   "cell_type": "code",
   "execution_count": 21,
   "metadata": {},
   "outputs": [
    {
     "data": {
      "text/plain": [
       "' import pandas as pd\\nimport geopandas as gpd\\nimport shapely\\nfrom shapely.geometry import Point, LineString, Polygon\\nimport osmnx\\nimport pysal\\nimport cartopy\\nimport geoplot\\nimport osmnx\\nimport folium\\nimport dash\\nimport rasterio\\nimport contextily'"
      ]
     },
     "execution_count": 21,
     "metadata": {},
     "output_type": "execute_result"
    }
   ],
   "source": [
    "'''import pandas as pd\n",
    "import geopandas as gpd\n",
    "import shapely\n",
    "from shapely.geometry import Point, LineString, Polygon\n",
    "import osmnx\n",
    "import pysal\n",
    "import cartopy\n",
    "import geoplot\n",
    "import osmnx\n",
    "import folium\n",
    "import dash\n",
    "import rasterio\n",
    "import contextily'''"
   ]
  },
  {
   "cell_type": "code",
   "execution_count": null,
   "metadata": {},
   "outputs": [],
   "source": []
  }
 ],
 "metadata": {
  "kernelspec": {
   "display_name": "Python 3",
   "language": "python",
   "name": "python3"
  },
  "language_info": {
   "codemirror_mode": {
    "name": "ipython",
    "version": 3
   },
   "file_extension": ".py",
   "mimetype": "text/x-python",
   "name": "python",
   "nbconvert_exporter": "python",
   "pygments_lexer": "ipython3",
   "version": "3.7.0"
  }
 },
 "nbformat": 4,
 "nbformat_minor": 2
}
