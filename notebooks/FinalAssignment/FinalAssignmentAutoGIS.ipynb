{
 "cells": [
  {
   "cell_type": "markdown",
   "metadata": {},
   "source": [
    "Author: Hari Adhikari\n"
   ]
  },
  {
   "cell_type": "markdown",
   "metadata": {},
   "source": [
    "In this final assignment, i would like to investigate the geographical position (location) of Nepalese Resturant in Helsinki region. Besides that i would also like to see how accessible they are from the nearest train and metro stations. Furthermore, i would like to see, the possible new areas for opening Nepali resturants in Helsinki regions, based on population density. "
   ]
  },
  {
   "cell_type": "markdown",
   "metadata": {},
   "source": [
    "So far, i have manually identified the location of each Nepali resturant from Google search, as they were not available in 1) Trip advisor and 2) Open Street Map. This data can be read from data folder \"listofnepaliResturants.txt\"\n"
   ]
  },
  {
   "cell_type": "markdown",
   "metadata": {},
   "source": [
    "Install and import necessary modules "
   ]
  },
  {
   "cell_type": "markdown",
   "metadata": {},
   "source": [
    "- Install Geopandas  \n",
    "conda install -c conda-forge geopandas  \n",
    "- Install Shapely  \n",
    "conda install -c conda-forge shapely  \n",
    "- Install geoplot  \n",
    "conda install -c conda-forge geoplot  \n",
    "- Install osmnx  \n",
    "conda install -c conda-forge osmnx  \n",
    "- Install pysal  \n",
    "conda install -c conda-forge pysal  \n",
    "- Install contextily  \n",
    "conda install -c conda-forge contextily  \n",
    "- Install rasterio  \n",
    "conda install -c conda-forge rasterio  \n",
    "- Install rasterstats  \n",
    "conda install -c conda-forge rasterstats  "
   ]
  },
  {
   "cell_type": "code",
   "execution_count": 1,
   "metadata": {},
   "outputs": [
    {
     "name": "stderr",
     "output_type": "stream",
     "text": [
      "/srv/conda/lib/python3.5/importlib/_bootstrap.py:222: RuntimeWarning: numpy.dtype size changed, may indicate binary incompatibility. Expected 96, got 88\n",
      "  return f(*args, **kwds)\n",
      "/srv/conda/lib/python3.5/importlib/_bootstrap.py:222: RuntimeWarning: numpy.dtype size changed, may indicate binary incompatibility. Expected 96, got 88\n",
      "  return f(*args, **kwds)\n",
      "/srv/conda/lib/python3.5/importlib/_bootstrap.py:222: RuntimeWarning: numpy.dtype size changed, may indicate binary incompatibility. Expected 96, got 88\n",
      "  return f(*args, **kwds)\n",
      "/srv/conda/lib/python3.5/importlib/_bootstrap.py:222: RuntimeWarning: numpy.dtype size changed, may indicate binary incompatibility. Expected 96, got 88\n",
      "  return f(*args, **kwds)\n",
      "/srv/conda/lib/python3.5/importlib/_bootstrap.py:222: RuntimeWarning: numpy.dtype size changed, may indicate binary incompatibility. Expected 96, got 88\n",
      "  return f(*args, **kwds)\n",
      "/srv/conda/lib/python3.5/importlib/_bootstrap.py:222: RuntimeWarning: numpy.dtype size changed, may indicate binary incompatibility. Expected 96, got 88\n",
      "  return f(*args, **kwds)\n",
      "/srv/conda/lib/python3.5/site-packages/pysal/__init__.py:65: VisibleDeprecationWarning: PySAL's API will be changed on 2018-12-31. The last release made with this API is version 1.14.4. A preview of the next API version is provided in the `pysal` 2.0 prelease candidate. The API changes and a guide on how to change imports is provided at https://pysal.org/about\n",
      "  ), VisibleDeprecationWarning)\n"
     ]
    }
   ],
   "source": [
    "# Import some modules\n",
    "import pandas as pd\n",
    "import geopandas as gpd\n",
    "import shapely\n",
    "from shapely.geometry import Point, LineString, Polygon\n",
    "import osmnx\n",
    "import pysal\n",
    "import cartopy\n",
    "import geoplot\n",
    "import osmnx\n",
    "import folium\n",
    "import rasterio\n",
    "import contextily\n",
    "import matplotlib.pyplot as plt\n",
    "%matplotlib inline"
   ]
  },
  {
   "cell_type": "code",
   "execution_count": 3,
   "metadata": {},
   "outputs": [],
   "source": [
    "#origins = pd.read_csv(\"data/listofnepaliResturants.txt\")\n",
    "data = r\"Data/listofnepaliResturants.txt\"\n",
    "\n",
    "# REPLACE THE ERROR BELOW WITH YOUR OWN CODE\n",
    "data = pd.read_csv(data, sep=';')"
   ]
  },
  {
   "cell_type": "code",
   "execution_count": 4,
   "metadata": {},
   "outputs": [
    {
     "name": "stdout",
     "output_type": "stream",
     "text": [
      "   id                     name                                  addr\n",
      "0   1      Ravintola Base Camp      Yliopistonkatu 5, 00100 Helsinki\n",
      "1   2       Ravintola Mountain  Nordenskiöldinkatu 8, 00250 Helsinki\n",
      "2   3  Ravintola Satkar Kamppi      Fredrikinkatu 46, 00100 Helsinki\n",
      "3   4       Ravintola Kantipur      Lönnrotinkatu 25, 00180 Helsinki\n",
      "4   5     Mount Everest Kamppi    Lapinlahdenkatu 15, 00180 Helsinki\n"
     ]
    }
   ],
   "source": [
    "\n",
    "# Check your input data\n",
    "print(data.head())"
   ]
  },
  {
   "cell_type": "code",
   "execution_count": 5,
   "metadata": {},
   "outputs": [
    {
     "data": {
      "text/html": [
       "<div>\n",
       "<style scoped>\n",
       "    .dataframe tbody tr th:only-of-type {\n",
       "        vertical-align: middle;\n",
       "    }\n",
       "\n",
       "    .dataframe tbody tr th {\n",
       "        vertical-align: top;\n",
       "    }\n",
       "\n",
       "    .dataframe thead th {\n",
       "        text-align: right;\n",
       "    }\n",
       "</style>\n",
       "<table border=\"1\" class=\"dataframe\">\n",
       "  <thead>\n",
       "    <tr style=\"text-align: right;\">\n",
       "      <th></th>\n",
       "      <th>address</th>\n",
       "      <th>geometry</th>\n",
       "    </tr>\n",
       "  </thead>\n",
       "  <tbody>\n",
       "    <tr>\n",
       "      <th>0</th>\n",
       "      <td>Caverna, 5, Yliopistonkatu, Keskusta, Kluuvi, ...</td>\n",
       "      <td>POINT (24.9466636 60.1699095)</td>\n",
       "    </tr>\n",
       "    <tr>\n",
       "      <th>1</th>\n",
       "      <td>Mountain (Nepalese kitchen), 8, Nordenskiöldin...</td>\n",
       "      <td>POINT (24.9169656 60.1863164)</td>\n",
       "    </tr>\n",
       "    <tr>\n",
       "      <th>2</th>\n",
       "      <td>Fredrikinkatu, Kamppi, Eteläinen suurpiiri, He...</td>\n",
       "      <td>POINT (24.9327188 60.1673745)</td>\n",
       "    </tr>\n",
       "    <tr>\n",
       "      <th>3</th>\n",
       "      <td>Boothill, 25, Lönnrotinkatu, Kamppi, Eteläinen...</td>\n",
       "      <td>POINT (24.933405 60.1647085)</td>\n",
       "    </tr>\n",
       "    <tr>\n",
       "      <th>4</th>\n",
       "      <td>15, Lapinlahdenkatu, Kamppi, Eteläinen suurpii...</td>\n",
       "      <td>POINT (24.9280348 60.1669584)</td>\n",
       "    </tr>\n",
       "  </tbody>\n",
       "</table>\n",
       "</div>"
      ],
      "text/plain": [
       "                                             address  \\\n",
       "0  Caverna, 5, Yliopistonkatu, Keskusta, Kluuvi, ...   \n",
       "1  Mountain (Nepalese kitchen), 8, Nordenskiöldin...   \n",
       "2  Fredrikinkatu, Kamppi, Eteläinen suurpiiri, He...   \n",
       "3  Boothill, 25, Lönnrotinkatu, Kamppi, Eteläinen...   \n",
       "4  15, Lapinlahdenkatu, Kamppi, Eteläinen suurpii...   \n",
       "\n",
       "                        geometry  \n",
       "0  POINT (24.9466636 60.1699095)  \n",
       "1  POINT (24.9169656 60.1863164)  \n",
       "2  POINT (24.9327188 60.1673745)  \n",
       "3   POINT (24.933405 60.1647085)  \n",
       "4  POINT (24.9280348 60.1669584)  "
      ]
     },
     "execution_count": 5,
     "metadata": {},
     "output_type": "execute_result"
    }
   ],
   "source": [
    "# Geocode the adrresses\n",
    "geo = None\n",
    "\n",
    "# REPLACE THE ERROR BELOW WITH YOUR OWN CODE\n",
    "# Import the geocoding tool\n",
    "from geopandas.tools import geocode\n",
    "\n",
    "# Geocode addresses with Nominatim backend\n",
    "geo = geocode(data['addr'], provider = 'nominatim', user_agent = 'autogis_student_2')\n",
    "geo.head()"
   ]
  },
  {
   "cell_type": "code",
   "execution_count": null,
   "metadata": {},
   "outputs": [],
   "source": [
    "# Join the tables\n",
    "geodata = None\n",
    "\n",
    "# REPLACE THE ERROR BELOW WITH YOUR OWN CODE\n",
    "geodata = geo.join(data)"
   ]
  },
  {
   "cell_type": "code",
   "execution_count": null,
   "metadata": {},
   "outputs": [],
   "source": [
    "geodata['Latitude'] = geodata['geometry'].y\n",
    "geodata['Longitude'] = geodata['geometry'].x\n",
    "geodata.head(10)"
   ]
  },
  {
   "cell_type": "code",
   "execution_count": null,
   "metadata": {},
   "outputs": [],
   "source": [
    "locations = geodata[['Latitude', 'Longitude']]\n",
    "locationlist = locations.values.tolist()\n",
    "len(locationlist)\n",
    "locationlist[7]"
   ]
  },
  {
   "cell_type": "code",
   "execution_count": null,
   "metadata": {},
   "outputs": [],
   "source": [
    "map = folium.Map(location=[60.25, 24.8], zoom_start=12)\n",
    "for point in range(0, len(locationlist)):\n",
    "    folium.Marker(locationlist[point], popup=geodata['name'][point]).add_to(map)\n",
    "map"
   ]
  },
  {
   "cell_type": "code",
   "execution_count": null,
   "metadata": {},
   "outputs": [],
   "source": [
    "outfp = \"docs/dataE5/BestHotelsInHelsinki.html\"\n",
    "map.save(outfp)"
   ]
  },
  {
   "cell_type": "code",
   "execution_count": null,
   "metadata": {},
   "outputs": [],
   "source": [
    "import folium.plugins\n",
    "\n",
    "#from folium.plugins import MarkerCluster\n",
    "#MarkerCluster()\n",
    "\n",
    "map2 = folium.Map(location=[60.25, 24.8], tiles='Stamen Terrain', zoom_start=11)\n",
    "\n",
    "marker_cluster = folium.plugins.MarkerCluster().add_to(map2)\n",
    "\n",
    "for point in range(0, len(locationlist)):\n",
    "    folium.Marker(locationlist[point], popup=geodata['name'][point], icon=folium.Icon(color='darkblue', icon_color='white', icon='male', angle=0, prefix='fa')).add_to(marker_cluster)\n",
    "map2"
   ]
  },
  {
   "cell_type": "code",
   "execution_count": null,
   "metadata": {},
   "outputs": [],
   "source": [
    "outfp = \"docs/dataE5/BestHotelsInHelsinki_Cluster.html\"\n",
    "map2.save(outfp)"
   ]
  }
 ],
 "metadata": {
  "kernelspec": {
   "display_name": "Python 3",
   "language": "python",
   "name": "python3"
  },
  "language_info": {
   "codemirror_mode": {
    "name": "ipython",
    "version": 3
   },
   "file_extension": ".py",
   "mimetype": "text/x-python",
   "name": "python",
   "nbconvert_exporter": "python",
   "pygments_lexer": "ipython3",
   "version": "3.5.5"
  }
 },
 "nbformat": 4,
 "nbformat_minor": 2
}
